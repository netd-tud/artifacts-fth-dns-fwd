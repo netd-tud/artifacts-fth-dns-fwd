{
 "cells": [
  {
   "cell_type": "code",
   "execution_count": null,
   "id": "e9197e12-d705-49d0-beef-1ee0d5323ba0",
   "metadata": {},
   "outputs": [],
   "source": [
    "import polars as pl\n",
    "import pandas as pd\n",
    "import os\n",
    "import numpy as np\n",
    "import glob\n",
    "from artifacts_fth_dns_fwd.config import *"
   ]
  },
  {
   "cell_type": "code",
   "execution_count": 2,
   "id": "a69af80d-33aa-40f1-8d0f-c27bfcac1ab2",
   "metadata": {},
   "outputs": [],
   "source": [
    "data_dir = PROCESSED_DATA_DIR\n",
    "dnsscan_data = f'{data_dir}/dnsscan'\n",
    "mikrotik_measurement = f'{data_dir}/mikrotik-testing'\n",
    "\n",
    "rate_pub_resolver_multi_pop_files = f'{data_dir}/ratelimits-multiple-pops'\n",
    "\n",
    "scan_overview_file = f'{dnsscan_data}/scan_overview.csv.gz'\n",
    "scan_df_file = f'{dnsscan_data}/udp_dataframe_complete_2025-01-06.csv.gz'\n",
    "scan_df_file_aug = f'{dnsscan_data}/udp_dataframe_complete_2024-08-26.csv.gz'\n",
    "\n",
    "freq_over_time_df_file = f'{dnsscan_data}/frequency_per_type_over_time.csv'\n",
    "\n",
    "shapefile = f'{data_dir}/shapefiles/ne_110m_admin_0_countries.shp'"
   ]
  },
  {
   "cell_type": "code",
   "execution_count": 3,
   "id": "0577503a-6ab1-4dc4-ae3d-389451c9d2f5",
   "metadata": {},
   "outputs": [],
   "source": [
    "overview_df = pl.read_csv(scan_overview_file,separator=\";\")\n",
    "scan_df = pl.read_csv(scan_df_file, separator=\";\")\n",
    "scan_df_aug = pl.read_csv(scan_df_file_aug, separator=\";\")\n",
    "frequency_odns_over_time = pl.read_csv(freq_over_time_df_file,separator=';')"
   ]
  },
  {
   "cell_type": "code",
   "execution_count": null,
   "id": "c2eb2f51-06f5-41c2-a28f-43cdcebbb40f",
   "metadata": {
    "scrolled": true
   },
   "outputs": [],
   "source": [
    "print(\"#######################\")\n",
    "print(\"######  TABLE 1  ######\")\n",
    "print(\"#######################\")\n",
    "#print(scan_df\n",
    "(scan_df\n",
    "    .filter(pl.col('response_type') == 'Transparent Forwarder')\n",
    "    .select(['ip_response', 'org_response'])\n",
    "    .with_columns([\n",
    "        pl.when(pl.col('org_response').str.contains('GOOGLE'))\n",
    "          .then(pl.lit('Google'))\n",
    "        .when(pl.col('org_response').str.contains('CLOUDFLARENET'))\n",
    "          .then(pl.lit('Cloudflare'))\n",
    "        .when(pl.col('org_response').str.contains('OPENDNS'))\n",
    "          .then(pl.lit('OpenDNS'))\n",
    "        .when(pl.col('org_response').str.contains('MEGHBELA'))\n",
    "          .then(pl.lit('MEGHBELA'))\n",
    "        .when(pl.col('ip_response') == '178.233.140.109')\n",
    "          .then(pl.lit('Turksat'))\n",
    "        .when(pl.col('ip_response') == '103.88.88.88')\n",
    "          .then(pl.lit('DNS Bersama'))\n",
    "        .when(pl.col('ip_response') == '83.220.169.155')\n",
    "          .then(pl.lit('Comss.one DNS'))\n",
    "        .alias('Provider')\n",
    "    ])\n",
    "    .group_by(['ip_response', 'Provider'])\n",
    "    .agg(pl.len().alias('Tfwd. [#]'))\n",
    "    .with_columns(\n",
    "        (pl.col('Tfwd. [#]') * 100 / pl.col('Tfwd. [#]').sum()).round(2).alias('Tfwd. [%]'))\n",
    "    .sort('Tfwd. [#]', descending=True)\n",
    "    .rename({\"ip_response\": \"IP Address\"})\n",
    "    .limit(10)\n",
    "    .to_pandas()\n",
    ")\n",
    "    #.to_latex(float_format=\"%.2f\",index=False))"
   ]
  },
  {
   "cell_type": "code",
   "execution_count": 9,
   "id": "0ee25b91-d912-4f26-811b-9527e49e3737",
   "metadata": {},
   "outputs": [],
   "source": [
    "fingerprinting_df = pl.read_csv(f\"{data_dir}/fingerprinting/fingerprinting_results.csv\", separator=\";\")"
   ]
  },
  {
   "cell_type": "code",
   "execution_count": 10,
   "id": "76aeae66-43b9-465f-8fc7-f8d5e464e89e",
   "metadata": {},
   "outputs": [],
   "source": [
    "fingerprinting_df = fingerprinting_df.filter(pl.col(\"router vendor\").is_not_null())"
   ]
  },
  {
   "cell_type": "code",
   "execution_count": 11,
   "id": "2ae3dde1-7676-4ca1-879f-ef25470fbd7f",
   "metadata": {},
   "outputs": [],
   "source": [
    "fingerprinting_df = fingerprinting_df.with_columns(\n",
    "    pl.when((pl.col('model version').str.starts_with('CCR')) & (pl.col('router vendor')=='Mikrotik')).then(pl.lit('Core'))\n",
    "    .when(pl.col('router vendor').is_in(['Hikvision','UNV'])).then(pl.lit('NVR')).otherwise(pl.lit(\"CPE\")).alias('Type')\n",
    ")"
   ]
  },
  {
   "cell_type": "code",
   "execution_count": 12,
   "id": "859152cf-7ae2-4a63-b2f3-54f1bc23a0b4",
   "metadata": {},
   "outputs": [],
   "source": [
    "fingerprinting_df = fingerprinting_df.group_by(['router vendor','Type']).agg(pl.len().alias('Devices [#]')).sort(by='Devices [#]',descending=True)"
   ]
  },
  {
   "cell_type": "code",
   "execution_count": 13,
   "id": "e32bbd6f-f71d-43a0-a0f3-c865e8e47148",
   "metadata": {},
   "outputs": [],
   "source": [
    "corder={'Mikrotik':1,\n",
    " 'TP-Link':2,\n",
    " 'Ubiquiti':3,\n",
    " 'Fortinet':4,\n",
    " 'ZTE':5,\n",
    " 'Cisco':6,\n",
    " 'Zyxel':7,\n",
    " 'Huawei':8,\n",
    " 'D-Link':9,\n",
    " 'Other':10,\n",
    " 'Hikvision':11,\n",
    " 'UNV':12}\n",
    "fingerprinting_df = fingerprinting_df.with_columns(\n",
    "    pl.when(pl.col('Devices [#]')>=24).then(pl.col('router vendor')).otherwise(pl.lit('Other'))\n",
    ").group_by(['router vendor','Type']).agg(pl.col('Devices [#]').sum()).sort('Devices [#]',descending=True).to_pandas().sort_values(by='router vendor',key = lambda vendor: vendor.map(corder))\n",
    "fingerprinting_df = fingerprinting_df.rename(columns={'router vendor':'Vendor'})"
   ]
  },
  {
   "cell_type": "code",
   "execution_count": null,
   "id": "a9df6233-4f64-42cb-9e22-6c411b37ff06",
   "metadata": {},
   "outputs": [],
   "source": [
    "print(\"#######################\")\n",
    "print(\"######  TABLE 2  ######\")\n",
    "print(\"#######################\")\n",
    "#print(fingerprinting_df.to_latex(index=False))\n",
    "fingerprinting_df"
   ]
  },
  {
   "cell_type": "code",
   "execution_count": null,
   "id": "da6162fc-cb71-4501-a9cf-b827f8631c9d",
   "metadata": {},
   "outputs": [],
   "source": [
    "# all known response addresses are already directly accessible\n",
    "response_addresses = (\n",
    "    scan_df\n",
    "    .filter(pl.col(\"response_type\") != \"Transparent Forwarder\")\n",
    "    .select(\"ip_response\")\n",
    "    .unique()\n",
    "    .to_series()\n",
    "    .to_list()\n",
    ")\n",
    "# we might know some resolver addresses through the a-record as well, but they are part of the shielded resolvers since these resolvers are not publically accessible\n",
    "\n",
    "# mapping of transparent forwarders to shielded resolvers\n",
    "tfwd_shielded_df = (\n",
    "    scan_df\n",
    "    .filter(pl.col(\"response_type\") == \"Transparent Forwarder\")\n",
    "    .filter(~pl.col(\"ip_response\").is_in(response_addresses))\n",
    ")\n",
    "# ip addresses of only the shielded resolvers themselves\n",
    "shielded_resolvers = tfwd_shielded_df.select(\"ip_response\").unique()\n",
    "top5ases = tfwd_shielded_df.group_by(\"asn_request\").agg(pl.len()).sort(by=\"len\",descending=True).head(5).select(pl.col('asn_request')).to_series().to_list()\n",
    "print(\"#######################\")\n",
    "print(\"######  TABLE 4  ######\")\n",
    "print(\"#######################\")\n",
    "tfwd_shielded_df.group_by(\"asn_request\").agg(pl.len()).sort(by=\"len\",descending=True)\\\n",
    "      .join(tfwd_shielded_df.filter(pl.col('asn_response').is_in(top5ases)).group_by(\"asn_response\",\"ip_response\").agg(pl.len()).group_by(\"asn_response\").agg(pl.len()).sort(by=\"len\",descending=True),left_on='asn_request',right_on='asn_response')\\\n",
    "      .to_pandas().rename(columns={'asn_request':'ASN','len':'# of Transp. Fwds.','len_right':'# of Shielded Resolvers'})#.to_latex(index=False,float_format=\"%.0f\"))"
   ]
  },
  {
   "cell_type": "code",
   "execution_count": null,
   "id": "d1c49721-796f-4880-9e1e-de4fc2bd5a79",
   "metadata": {},
   "outputs": [],
   "source": [
    "fnames = glob.glob(f\"{data_dir}/any_dnssec_support/udp_A_DNSSEC_verisign.com_*.csv.gz\")\n",
    "\n",
    "dnssec_df = pl.concat(\n",
    "    [pl.read_csv(file, separator=\";\", has_header=False, new_columns=[\"id\",\"ip_request\",\"ip_response\",\"a_record\",\"ts_request\",\"port\",\"dnsid\",\"dns_pkt_size\",\"dns_recs\",\"dns_flags\"]).with_columns(\n",
    "        pl.lit(file.split(\"_\")[-1].split(\".\")[0]).alias(\"resolver_type\")\n",
    "    ) for idx, file in enumerate(fnames)]\n",
    ")\n",
    " \n",
    "dnssec_df = dnssec_df.with_columns(\n",
    "    pl.when(pl.col(\"dns_recs\").str.contains(\"RRSIG\"))\n",
    "    .then(pl.lit(True))\n",
    "    .otherwise(pl.lit(False))\n",
    "    .alias(\"has_dnssec\")\n",
    ")\n",
    "\n",
    "dnssec_df = dnssec_df.group_by(\"ip_response\",\"has_dnssec\",\"resolver_type\").agg(pl.len())\n",
    "dnssec_df_filtered_has = dnssec_df.filter(pl.col(\"has_dnssec\"))\n",
    "dnssec_df_filtered_has_not = dnssec_df.filter(~pl.col(\"ip_response\").is_in(dnssec_df_filtered_has[\"ip_response\"].implode()))\n",
    "dnssec_df = pl.concat([dnssec_df_filtered_has,dnssec_df_filtered_has_not])\n",
    "dnssec_df = dnssec_df.group_by(\"has_dnssec\",\"resolver_type\").agg(\n",
    "    pl.len().alias(\"dnssec_amount\")\n",
    ")\n"
   ]
  },
  {
   "cell_type": "code",
   "execution_count": null,
   "id": "d797ac04-00a1-4ba9-91df-9a944ed27cb9",
   "metadata": {},
   "outputs": [],
   "source": [
    "fnames = glob.glob(f\"{data_dir}/any_dnssec_support/udp_ANY_EDNS0_verisign.com_*.csv.gz\")\n",
    "\n",
    "any_df = pl.concat(\n",
    "    [pl.read_csv(file, separator=\";\", has_header=False, new_columns=[\"id\",\"ip_request\",\"ip_response\",\"a_record\",\"ts_request\",\"port\",\"dnsid\",\"dns_pkt_size\",\"dns_recs\",\"dns_flags\"]).with_columns(\n",
    "        pl.lit(file.split(\"_\")[-1].split(\".\")[0]).alias(\"resolver_type\")\n",
    "    ) for idx, file in enumerate(fnames)]\n",
    ")\n",
    "any_df = any_df.with_columns(\n",
    "    pl.when(pl.col(\"dns_pkt_size\") > 100)\n",
    "    .then(pl.lit(True))\n",
    "    .otherwise(pl.lit(False))\n",
    "    .alias(\"has_any\")\n",
    ")\n",
    "\n",
    "any_df = any_df.group_by(\"ip_response\",\"has_any\",\"resolver_type\").agg(pl.len())\n",
    "\n",
    "any_df_filtered_has = any_df.filter(pl.col(\"has_any\"))\n",
    "any_df_filtered_has_not = any_df.filter(~pl.col(\"ip_response\").is_in(dnssec_df_filtered_has[\"ip_response\"].implode()))\n",
    "any_df = pl.concat([any_df_filtered_has,any_df_filtered_has_not])\n",
    "any_df = any_df.group_by(\"has_any\",\"resolver_type\").agg(\n",
    "    pl.len().alias(\"any_amount\")\n",
    ")"
   ]
  },
  {
   "cell_type": "code",
   "execution_count": null,
   "id": "3393e4c3-c279-4d77-bbd7-33c6717b5d9f",
   "metadata": {},
   "outputs": [],
   "source": [
    "# all known response addresses are already directly accessible\n",
    "response_addresses2 = (\n",
    "    scan_df_aug\n",
    "    .filter(pl.col(\"response_type\") != \"Transparent Forwarder\")\n",
    "    .select(\"ip_response\")\n",
    "    .unique()\n",
    "    .to_series()\n",
    "    .to_list()\n",
    ")\n",
    "# we might know some resolver addresses through the a-record as well, but they are part of the shielded resolvers since these resolvers are not publically accessible\n",
    "\n",
    "# mapping of transparent forwarders to shielded resolvers\n",
    "tfwd_shielded_df2 = (\n",
    "    scan_df_aug\n",
    "    .filter(pl.col(\"response_type\") == \"Transparent Forwarder\")\n",
    "    .filter(~pl.col(\"ip_response\").is_in(response_addresses2))\n",
    ")\n",
    "# ip addresses of only the shielded resolvers themselves\n",
    "shielded_resolvers2 = tfwd_shielded_df2.select(\"ip_response\").unique()"
   ]
  },
  {
   "cell_type": "code",
   "execution_count": null,
   "id": "5ebe5a05-62a7-4864-8150-174570cc42b5",
   "metadata": {},
   "outputs": [],
   "source": [
    "total_shielded = shielded_resolvers2.n_unique()\n",
    "shielded_any = any_df.filter((pl.col('has_any')) & (pl.col('resolver_type')=='shielded')).select(pl.col('any_amount')).item()\n",
    "shielded_noany = any_df.filter((~pl.col('has_any')) & (pl.col('resolver_type')=='shielded')).select(pl.col('any_amount')).item()\n",
    "\n",
    "shielded_dnssec = dnssec_df.filter((pl.col('has_dnssec')) & (pl.col('resolver_type')=='shielded')).select(pl.col('dnssec_amount')).item()\n",
    "shielded_nodnssec = dnssec_df.filter((~pl.col('has_dnssec')) & (pl.col('resolver_type')=='shielded')).select(pl.col('dnssec_amount')).item()\n",
    "\n",
    "total_unshielded = scan_df_aug.filter(pl.col('response_type')=='Resolver').n_unique()\n",
    "unshielded_any = any_df.filter((pl.col('has_any')) & (pl.col('resolver_type')=='unshielded')).select(pl.col('any_amount')).item()\n",
    "unshielded_noany = any_df.filter((~pl.col('has_any')) & (pl.col('resolver_type')=='unshielded')).select(pl.col('any_amount')).item()\n",
    "\n",
    "unshielded_dnssec = dnssec_df.filter((pl.col('has_dnssec')) & (pl.col('resolver_type')=='unshielded')).select(pl.col('dnssec_amount')).item()\n",
    "unshielded_nodnssec = dnssec_df.filter((~pl.col('has_dnssec')) & (pl.col('resolver_type')=='unshielded')).select(pl.col('dnssec_amount')).item()\n",
    "\n",
    "table_tmp = pd.DataFrame({'Query':['DNSSEC']*3+['ANY']*3,\n",
    "                          'Support':[True,False,'n/a']*2,\n",
    "                          'Shielded Res. [#]':[shielded_dnssec,\n",
    "                                               shielded_nodnssec,\n",
    "                                               total_shielded-shielded_dnssec-shielded_nodnssec,\n",
    "                                               shielded_any,\n",
    "                                               shielded_noany,\n",
    "                                               total_shielded-shielded_any-shielded_noany\n",
    "                                              ],\n",
    "                          'Shielded Res. [%]':[round(shielded_dnssec/total_shielded*100,2),\n",
    "                                               round(shielded_nodnssec/total_shielded*100,2),\n",
    "                                               round((total_shielded-shielded_dnssec-shielded_nodnssec)/total_shielded*100,2),\n",
    "                                               round(shielded_any/total_shielded*100,2),\n",
    "                                               round(shielded_noany/total_shielded*100,2),\n",
    "                                               round((total_shielded-shielded_any-shielded_noany)/total_shielded*100,2)\n",
    "                                              ],\n",
    "                          'Open Res. [#]':[unshielded_dnssec,\n",
    "                                               unshielded_nodnssec,\n",
    "                                               total_unshielded-unshielded_dnssec-unshielded_nodnssec,\n",
    "                                               unshielded_any,\n",
    "                                               unshielded_noany,\n",
    "                                               total_unshielded-unshielded_any-unshielded_noany\n",
    "                                              ],\n",
    "                          'Open Res. [%]':[round(unshielded_dnssec/total_unshielded*100,2),\n",
    "                                               round(unshielded_nodnssec/total_unshielded*100,2),\n",
    "                                               round((total_unshielded-unshielded_dnssec-unshielded_nodnssec)/total_unshielded*100,2),\n",
    "                                               # adding 0.01 to correct rounding issues\n",
    "                                               round(unshielded_any/total_unshielded*100,2)+0.01,\n",
    "                                               round(unshielded_noany/total_unshielded*100,2),\n",
    "                                               round((total_unshielded-unshielded_any-unshielded_noany)/total_unshielded*100,2)\n",
    "                                              ]\n",
    "                         })"
   ]
  },
  {
   "cell_type": "code",
   "execution_count": null,
   "id": "77262e80-fe11-4d92-abd0-3530f60ad0d0",
   "metadata": {},
   "outputs": [],
   "source": [
    "print(\"#######################\")\n",
    "print(\"######  TABLE 5  ######\")\n",
    "print(\"#######################\")\n",
    "#print(table_tmp.to_latex(index=False))\n",
    "table_tmp"
   ]
  },
  {
   "cell_type": "code",
   "execution_count": null,
   "id": "e1026b09-87ea-4ae1-9ee5-0e7cdb7c2190",
   "metadata": {
    "jupyter": {
     "source_hidden": true
    }
   },
   "outputs": [],
   "source": [
    "anycast_ip_addresses = [\n",
    "    \"8.8.8.8\",\n",
    "    \"8.8.4.4\",\n",
    "    \"1.1.1.1\",\n",
    "    \"1.0.0.1\",\n",
    "    \"208.67.222.222\",\n",
    "    \"9.9.9.9\",\n",
    "    \"45.90.28.118\",\n",
    "    \"76.76.2.0\",\n",
    "    \"156.154.70.1\",\n",
    "    \"199.85.126.10\",\n",
    "    \"64.6.64.6\",\n",
    "    \"4.2.2.1\",\n",
    "    \"74.82.42.42\",\n",
    "    \"185.228.168.9\",\n",
    "    \"195.46.39.39\",\n",
    "    \"8.26.56.26\",\n",
    "    \"94.140.14.14\",\n",
    "    \"45.11.45.11\",\n",
    "    \"216.146.35.35\",\n",
    "    \"223.5.5.5\",\n",
    "    \"119.29.29.29\",\n",
    "    \"101.226.4.6\",\n",
    "    \"180.76.76.76\",\n",
    "    \"114.114.114.114\",\n",
    "    \"1.2.4.8\",\n",
    "    \"205.171.2.26\",\n",
    "    \"149.112.121.10\",\n",
    "    \"80.80.80.80\",\n",
    "    \"77.88.8.8\",\n",
    "    \"193.58.251.251\"\n",
    "]\n",
    "anycast_ip_addresses = ['8.8.8.8','1.1.1.1', '8.8.4.4', '208.67.222.222','1.0.0.1', '195.46.39.39', '4.2.2.1','77.88.8.8',\n",
    "       '114.114.114.114', '223.5.5.5','119.29.29.29', '193.58.251.251','1.2.4.8',]\n",
    "       \n",
    "corresponding_companies = ['Google','Cloudflare','Google','OpenDNS','Cloudflare',\n",
    "'SafeDNS','Level3 DNS','Yandex DNS','114DNS','AliDNS','DNSPod','SkyDNS','CNNIC DNS']"
   ]
  },
  {
   "cell_type": "code",
   "execution_count": 18,
   "id": "a5e1a6ca-caf0-4d65-a415-966c3a7754b7",
   "metadata": {},
   "outputs": [],
   "source": [
    "anycast_df = scan_df.filter((pl.col('ip_response')!=pl.col('a_record')) & (pl.col('ip_response').is_in(anycast_ip_addresses)) & (pl.col('response_type')=='Transparent Forwarder')).to_pandas()#.org_response.unique()"
   ]
  },
  {
   "cell_type": "code",
   "execution_count": 19,
   "id": "7000c57a-e0d2-4770-bc7e-b719b9aa22df",
   "metadata": {},
   "outputs": [],
   "source": [
    "anycast_df['ip_request24'] = anycast_df.ip_request.apply(lambda ip: '.'.join(ip.split('.')[:-1]))\n",
    "anycast_df['arecord24'] = anycast_df.a_record.apply(lambda ip: '.'.join(ip.split('.')[:-1]))"
   ]
  },
  {
   "cell_type": "code",
   "execution_count": 20,
   "id": "88fe6a50-de88-427f-97a7-02ca85126a06",
   "metadata": {},
   "outputs": [],
   "source": [
    "anycast_df = pl.from_pandas(anycast_df)"
   ]
  },
  {
   "cell_type": "code",
   "execution_count": null,
   "id": "84728cb0-14b5-4c82-9824-5ea871a26473",
   "metadata": {},
   "outputs": [],
   "source": [
    "print(\"#######################\")\n",
    "print(\"######  TABLE 6  ######\")\n",
    "print(\"#######################\")\n",
    "#print(anycast_df.group_by('ip_response').agg(\n",
    "tmp = anycast_df.group_by('ip_response').agg(\n",
    "    pl.col('country_request').n_unique().alias('Countries [#]'),\n",
    "    pl.col('ip_request').n_unique().alias('Tfwd [#]'),\n",
    "    pl.col('ip_request24').n_unique().alias('Tfwd /24 [#]'),\n",
    "    pl.col('a_record').n_unique().alias('Anycast Infrastructure [#]'),\n",
    "    pl.col('arecord24').n_unique().alias('Anycast Infrastructure /24 [#]'),\n",
    ").sort(['Countries [#]','Tfwd [#]','Tfwd /24 [#]'],descending=True).with_columns(\n",
    "    pl.Series(\"Company\", corresponding_companies)\n",
    ")\n",
    "\n",
    "tmp.select([\n",
    "    \"ip_response\",\n",
    "    \"Company\",\n",
    "    \"Countries [#]\",\n",
    "    \"Tfwd [#]\",\n",
    "    \"Tfwd /24 [#]\",\n",
    "    \"Anycast Infrastructure [#]\",\n",
    "    \"Anycast Infrastructure /24 [#]\"\n",
    "]).to_pandas()"
   ]
  },
  {
   "cell_type": "code",
   "execution_count": null,
   "id": "5759bf62-f8c5-4c2b-9c90-8d83ffe81170",
   "metadata": {},
   "outputs": [],
   "source": [
    "rate_pub_resolver_multi_pop_files"
   ]
  },
  {
   "cell_type": "code",
   "execution_count": 23,
   "id": "0cb443c1-f852-46fd-9412-4c5bc406e70a",
   "metadata": {
    "scrolled": true
   },
   "outputs": [],
   "source": [
    "root_path = rate_pub_resolver_multi_pop_files\n",
    "rl_resolver_multipop = pd.DataFrame([])\n",
    "for cc_folder in os.listdir(root_path):\n",
    "    scan_folders = sorted(os.listdir(os.path.join(root_path, cc_folder)))\n",
    "    for idx, scan_folder in enumerate(scan_folders):\n",
    "        scan_path = os.path.join(root_path, cc_folder, scan_folder)\n",
    "        if not os.path.isdir(scan_path) or 'ipynb_checkpoints' in scan_path:\n",
    "            continue\n",
    "        tmp = pd.read_csv(os.path.join(scan_path,'rates.csv'), sep=';', names=['resolver_ip','max_rate', 'end_rate'])\n",
    "        ts = scan_folder.split('_')[0]\n",
    "        tmp['date'] = pd.to_datetime(ts)\n",
    "        tmp['country'] = cc_folder\n",
    "        rl_resolver_multipop = pd.concat([rl_resolver_multipop,tmp],ignore_index=True)"
   ]
  },
  {
   "cell_type": "code",
   "execution_count": null,
   "id": "06985b51-f869-4617-b2d1-282f770c6179",
   "metadata": {},
   "outputs": [],
   "source": [
    "formatted_df = rl_resolver_multipop.groupby(['resolver_ip','country'])['max_rate'].mean().unstack(level=-1).merge(pd.read_csv(f'{data_dir}/pub_dns_servers/public_dns_servers.txt',sep=';'), left_on='resolver_ip', right_on='resolver_addr').set_index(['resolver_name', 'resolver_addr']).sort_index()\n",
    "\n",
    "max_rate_per_resolver = formatted_df.max(axis=1).groupby(level='resolver_name').max()\n",
    "sorted_resolver_order = max_rate_per_resolver.sort_values(ascending=False).index\n",
    "formatted_df = formatted_df.reindex(sorted_resolver_order, level='resolver_name')\n",
    "\n",
    "formatted_df = formatted_df[(formatted_df != 0).any(axis=1)]\n",
    "formatted_df.index.names = ['Resolver name', 'IPv4-address']\n",
    "formatted_df.columns = pd.MultiIndex.from_product([['Max. rate on avg.'], formatted_df.columns])\n",
    "formatted_df = formatted_df.astype(int)\n",
    "formatted_df = formatted_df[formatted_df.index.get_level_values(0).isin(['Google','Cloudflare','OpenDNS','Verisign','AliDNS','CNNIC SDNS','114DNS','DNSPod Public DNS+','Yandex.DNS'])]\n",
    "order_mapping = {'Google':1,'Cloudflare':2,'OpenDNS':3,'Verisign':4,'AliDNS':5,'CNNIC SDNS':6,'114DNS':7,'DNSPod':8,'Yandex.DNS':9}\n",
    "formatted_df = formatted_df.sort_index(level=0,key=lambda name: name.map(order_mapping))\n",
    "tex_table = formatted_df.to_latex(multirow=True, index=True)\n",
    "print(\"#######################\")\n",
    "print(\"######  TABLE 7  ######\")\n",
    "print(\"#######################\")\n",
    "#print(tex_table)\n",
    "formatted_df"
   ]
  },
  {
   "cell_type": "code",
   "execution_count": null,
   "id": "cdc2b56e-1b9c-45e6-8136-70ff6f8445a6",
   "metadata": {},
   "outputs": [],
   "source": [
    "orchestration_df = pl.read_csv(f'{data_dir}/tfwds_to_public_dns_servers/2024-10-22_11-27-12_rm-direct_dm-constant_incr-2000ms_max-rate-3000pps/rates.csv',separator=';',has_header=False,new_columns=['Anycast IP address','Packet rate [pps]','Single count'])\\\n",
    ".select(['Anycast IP address','Packet rate [pps]']).sort(by='Packet rate [pps]',descending=True).filter(pl.col('Anycast IP address')!='9.9.9.9')\n",
    "orchestration_df"
   ]
  },
  {
   "cell_type": "code",
   "execution_count": null,
   "id": "8245c0af-b5bc-4f2f-a950-00e522877883",
   "metadata": {},
   "outputs": [],
   "source": [
    "anycast_company = {\"8.8.8.8\":'Google',\"8.8.4.4\":'Google',\"1.1.1.1\":\"Cloudflare\",\"1.0.0.1\":\"Cloudflare\",\"208.67.222.222\":\"OpenDNS\",\"208.67.220.220\":\"OpenDNS\"}\n",
    "orchestrated_fwds = []\n",
    "for ip in list(orchestration_df['Anycast IP address']):\n",
    "    tmp = pl.read_csv(f'{data_dir}/tfwds_to_public_dns_servers/2024-10-22_11-27-12_rm-direct_dm-constant_incr-2000ms_max-rate-3000pps/{ip}.csv.gz',separator=';',has_header=False,new_columns=['type','ip','rate'])\n",
    "    orchestrated_fwds.append(len(tmp.filter(pl.col('type')=='rate-data')))\n",
    "print(orchestrated_fwds)"
   ]
  },
  {
   "cell_type": "code",
   "execution_count": 24,
   "id": "fa98ea37-df4a-4afa-ac22-dda90701be09",
   "metadata": {},
   "outputs": [],
   "source": [
    "custom_order={'Google':1,'Cloudflare':2,'OpenDNS':3}"
   ]
  },
  {
   "cell_type": "code",
   "execution_count": 25,
   "id": "e41802f0-591b-4292-8104-51af8253de37",
   "metadata": {},
   "outputs": [],
   "source": [
    "orchestration_df = orchestration_df.with_columns(\n",
    "    pl.col('Anycast IP address').replace(anycast_company).alias('Company')\n",
    ")[['Company','Anycast IP address','Packet rate [pps]']]"
   ]
  },
  {
   "cell_type": "code",
   "execution_count": null,
   "id": "3e35003e-3144-48bd-8545-d8426585e7b3",
   "metadata": {},
   "outputs": [],
   "source": [
    "orchestration_df = orchestration_df.insert_column(2,pl.Series(\"Transp. fwd. [#]\", orchestrated_fwds))"
   ]
  },
  {
   "cell_type": "code",
   "execution_count": null,
   "id": "cb83aeef-f5a5-4d3b-8dde-37c2f6516b11",
   "metadata": {},
   "outputs": [],
   "source": [
    "# These values are taken from Table 7.\n",
    "orchestration_df = pl.from_pandas(orchestration_df.to_pandas().sort_values(by='Company',key=lambda x:x.map(custom_order))).insert_column(4,pl.Series('Resolver Packet rate [pps]',[1744, 1773, 822, 874, 733, 829]))"
   ]
  },
  {
   "cell_type": "code",
   "execution_count": null,
   "id": "75d359ed",
   "metadata": {},
   "outputs": [],
   "source": [
    "# Recursive Resolver Packet rate [pps] / Orchestr. Packet rate [pps]\n",
    "orchestration_df = orchestration_df.insert_column(5,pl.Series(\"Needed Infrastructure\", ['14x','10x','7x','4x','8x','5x'])).to_pandas()"
   ]
  },
  {
   "cell_type": "code",
   "execution_count": null,
   "id": "5de7a129-d97e-4a4e-96c4-9fd1d33c29ea",
   "metadata": {},
   "outputs": [],
   "source": [
    "print(\"#######################\")\n",
    "print(\"######  TABLE 8  ######\")\n",
    "print(\"#######################\")\n",
    "#print(orchestration_df.to_latex(index=False))\n",
    "orchestration_df"
   ]
  },
  {
   "cell_type": "code",
   "execution_count": null,
   "id": "04cf25c8-8da2-41a6-a8d4-d00c2f64cf4b",
   "metadata": {},
   "outputs": [],
   "source": []
  }
 ],
 "metadata": {
  "kernelspec": {
   "display_name": ".venv",
   "language": "python",
   "name": "python3"
  },
  "language_info": {
   "codemirror_mode": {
    "name": "ipython",
    "version": 3
   },
   "file_extension": ".py",
   "mimetype": "text/x-python",
   "name": "python",
   "nbconvert_exporter": "python",
   "pygments_lexer": "ipython3",
   "version": "3.13.7"
  }
 },
 "nbformat": 4,
 "nbformat_minor": 5
}
