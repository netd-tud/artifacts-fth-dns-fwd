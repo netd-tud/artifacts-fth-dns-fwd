{
 "cells": [
  {
   "cell_type": "code",
   "execution_count": 1,
   "id": "e9197e12-d705-49d0-beef-1ee0d5323ba0",
   "metadata": {},
   "outputs": [],
   "source": [
    "import polars as pl\n",
    "import pandas as pd\n",
    "import os\n",
    "import numpy as np\n",
    "import glob"
   ]
  },
  {
   "cell_type": "code",
   "execution_count": 2,
   "id": "a69af80d-33aa-40f1-8d0f-c27bfcac1ab2",
   "metadata": {},
   "outputs": [],
   "source": [
    "data_dir = './data'\n",
    "figure_dir = './figures'\n",
    "dnsscan_data = f'{data_dir}/dnsscan'\n",
    "mikrotik_measurement = f'{data_dir}/mikrotik-testing'\n",
    "\n",
    "rate_pub_resolver_multi_pop_files = f'{data_dir}/ratelimits-multiple-pops'\n",
    "\n",
    "scan_overview_file = f'{dnsscan_data}/scan_overview.csv.gz'\n",
    "scan_df_file = f'{dnsscan_data}/udp_dataframe_complete_2025-01-06.csv.gz'\n",
    "scan_df_file_aug = f'{dnsscan_data}/udp_dataframe_complete_2024-08-26.csv.gz'\n",
    "\n",
    "freq_over_time_df_file = f'{dnsscan_data}/frequency_per_type_over_time.csv'\n",
    "\n",
    "shapefile = f'{data_dir}/shapefiles/ne_110m_admin_0_countries.shp'"
   ]
  },
  {
   "cell_type": "code",
   "execution_count": 3,
   "id": "0577503a-6ab1-4dc4-ae3d-389451c9d2f5",
   "metadata": {},
   "outputs": [],
   "source": [
    "overview_df = pl.read_csv(scan_overview_file,separator=\";\")\n",
    "scan_df = pl.read_csv(scan_df_file, separator=\";\")\n",
    "scan_df_aug = pl.read_csv(scan_df_file_aug, separator=\";\")\n",
    "frequency_odns_over_time = pl.read_csv(freq_over_time_df_file,separator=';')"
   ]
  },
  {
   "cell_type": "code",
   "execution_count": 4,
   "id": "c2eb2f51-06f5-41c2-a28f-43cdcebbb40f",
   "metadata": {
    "scrolled": true
   },
   "outputs": [
    {
     "name": "stdout",
     "output_type": "stream",
     "text": [
      "#######################\n",
      "######  TABLE 1  ######\n",
      "#######################\n",
      "\\begin{tabular}{llrr}\n",
      "\\toprule\n",
      "ip_response & Provider & Tfwd. [#] & Tfwd. [%] \\\\\n",
      "\\midrule\n",
      "8.8.8.8 & Google & 341447 & 64.25 \\\\\n",
      "1.1.1.1 & Cloudflare & 48313 & 9.09 \\\\\n",
      "208.67.222.222 & OpenDNS & 14464 & 2.72 \\\\\n",
      "8.8.4.4 & Google & 14115 & 2.66 \\\\\n",
      "223.29.207.110 & ISP & 11789 & 2.22 \\\\\n",
      "83.220.169.155 & Hosting & 2047 & 0.39 \\\\\n",
      "178.233.140.109 & ISP & 1790 & 0.34 \\\\\n",
      "203.147.91.2 & ISP & 1634 & 0.31 \\\\\n",
      "1.0.0.1 & Cloudflare & 1196 & 0.23 \\\\\n",
      "103.88.88.88 & Hosting & 1007 & 0.19 \\\\\n",
      "\\bottomrule\n",
      "\\end{tabular}\n",
      "\n"
     ]
    }
   ],
   "source": [
    "print(\"#######################\")\n",
    "print(\"######  TABLE 1  ######\")\n",
    "print(\"#######################\")\n",
    "print(scan_df\n",
    "    .filter(pl.col('response_type') == 'Transparent Forwarder')\n",
    "    .select(['ip_response', 'org_response'])\n",
    "    .with_columns([\n",
    "        pl.when(pl.col('org_response').str.contains('GOOGLE'))\n",
    "          .then(pl.lit('Google'))\n",
    "        .when(pl.col('org_response').str.contains('CLOUDFLARENET'))\n",
    "          .then(pl.lit('Cloudflare'))\n",
    "        .when(pl.col('org_response').str.contains('OPENDNS'))\n",
    "          .then(pl.lit('OpenDNS'))\n",
    "        .when(pl.col('org_response').str.contains('RU-JSCIOT|ID-NIC'))\n",
    "          .then(pl.lit('Hosting'))\n",
    "        .otherwise(pl.lit('ISP'))\n",
    "        .alias('Provider')\n",
    "    ])\n",
    "    .group_by(['ip_response', 'Provider'])\n",
    "    .agg(pl.len().alias('Tfwd. [#]'))\n",
    "    .with_columns(\n",
    "        (pl.col('Tfwd. [#]') * 100 / pl.col('Tfwd. [#]').sum()).round(2).alias('Tfwd. [%]'))\n",
    "    .sort('Tfwd. [#]', descending=True)\n",
    "    .limit(10)\n",
    "    .to_pandas()\n",
    "    .to_latex(float_format=\"%.2f\",index=False))"
   ]
  },
  {
   "cell_type": "code",
   "execution_count": 5,
   "id": "0ee25b91-d912-4f26-811b-9527e49e3737",
   "metadata": {},
   "outputs": [],
   "source": [
    "fingerprinting_df = pl.read_csv(f\"{data_dir}/fingerprinting/fingerprinting_results.csv\", separator=\";\")"
   ]
  },
  {
   "cell_type": "code",
   "execution_count": 6,
   "id": "76aeae66-43b9-465f-8fc7-f8d5e464e89e",
   "metadata": {},
   "outputs": [],
   "source": [
    "fingerprinting_df = fingerprinting_df.filter(pl.col(\"router vendor\").is_not_null())"
   ]
  },
  {
   "cell_type": "code",
   "execution_count": 7,
   "id": "2ae3dde1-7676-4ca1-879f-ef25470fbd7f",
   "metadata": {},
   "outputs": [],
   "source": [
    "fingerprinting_df = fingerprinting_df.with_columns(\n",
    "    pl.when((pl.col('model version').str.starts_with('CCR')) & (pl.col('router vendor')=='Mikrotik')).then(pl.lit('Core'))\n",
    "    .when(pl.col('router vendor').is_in(['Hikvision','UNV'])).then(pl.lit('NVR')).otherwise(pl.lit(\"CPE\")).alias('Type')\n",
    ")"
   ]
  },
  {
   "cell_type": "code",
   "execution_count": 8,
   "id": "859152cf-7ae2-4a63-b2f3-54f1bc23a0b4",
   "metadata": {},
   "outputs": [],
   "source": [
    "fingerprinting_df = fingerprinting_df.group_by(['router vendor','Type']).agg(pl.len().alias('Devices [#]')).sort(by='Devices [#]',descending=True)"
   ]
  },
  {
   "cell_type": "code",
   "execution_count": 9,
   "id": "e32bbd6f-f71d-43a0-a0f3-c865e8e47148",
   "metadata": {},
   "outputs": [],
   "source": [
    "corder={'Mikrotik':1,\n",
    " 'TP-Link':2,\n",
    " 'Ubiquiti':3,\n",
    " 'Fortinet':4,\n",
    " 'ZTE':5,\n",
    " 'Cisco':6,\n",
    " 'Zyxel':7,\n",
    " 'Huawei':8,\n",
    " 'D-Link':9,\n",
    " 'Other':10,\n",
    " 'Hikvision':11,\n",
    " 'UNV':12}\n",
    "fingerprinting_df = fingerprinting_df.with_columns(\n",
    "    pl.when(pl.col('Devices [#]')>=24).then(pl.col('router vendor')).otherwise(pl.lit('Other'))\n",
    ").group_by(['router vendor','Type']).agg(pl.col('Devices [#]').sum()).sort('Devices [#]',descending=True).to_pandas().sort_values(by='router vendor',key = lambda vendor: vendor.map(corder))\n",
    "fingerprinting_df = fingerprinting_df.rename(columns={'router vendor':'Vendor'})"
   ]
  },
  {
   "cell_type": "code",
   "execution_count": 10,
   "id": "a9df6233-4f64-42cb-9e22-6c411b37ff06",
   "metadata": {},
   "outputs": [
    {
     "name": "stdout",
     "output_type": "stream",
     "text": [
      "#######################\n",
      "######  TABLE 2  ######\n",
      "#######################\n",
      "\\begin{tabular}{llr}\n",
      "\\toprule\n",
      "Vendor & Type & Devices [#] \\\\\n",
      "\\midrule\n",
      "Mikrotik & Core & 5569 \\\\\n",
      "Mikrotik & CPE & 4362 \\\\\n",
      "TP-Link & CPE & 728 \\\\\n",
      "Ubiquiti & CPE & 663 \\\\\n",
      "Fortinet & CPE & 252 \\\\\n",
      "ZTE & CPE & 200 \\\\\n",
      "Cisco & CPE & 104 \\\\\n",
      "Zyxel & CPE & 102 \\\\\n",
      "Huawei & CPE & 58 \\\\\n",
      "D-Link & CPE & 24 \\\\\n",
      "Other & CPE & 114 \\\\\n",
      "Hikvision & NVR & 871 \\\\\n",
      "UNV & NVR & 25 \\\\\n",
      "\\bottomrule\n",
      "\\end{tabular}\n",
      "\n"
     ]
    }
   ],
   "source": [
    "print(\"#######################\")\n",
    "print(\"######  TABLE 2  ######\")\n",
    "print(\"#######################\")\n",
    "print(fingerprinting_df.to_latex(index=False))"
   ]
  },
  {
   "cell_type": "code",
   "execution_count": 11,
   "id": "da6162fc-cb71-4501-a9cf-b827f8631c9d",
   "metadata": {},
   "outputs": [
    {
     "name": "stdout",
     "output_type": "stream",
     "text": [
      "#######################\n",
      "######  TABLE 4  ######\n",
      "#######################\n",
      "\\begin{tabular}{rrr}\n",
      "\\toprule\n",
      "ASN & \\# of Transp. Fwds. & \\# of Shielded Resolvers \\\\\n",
      "\\midrule\n",
      "4812 & 17923 & 9880 \\\\\n",
      "5769 & 8377 & 4256 \\\\\n",
      "209 & 5576 & 2446 \\\\\n",
      "19901 & 2050 & 744 \\\\\n",
      "5483 & 1724 & 578 \\\\\n",
      "\\bottomrule\n",
      "\\end{tabular}\n",
      "\n"
     ]
    }
   ],
   "source": [
    "# all known response addresses are already directly accessible\n",
    "response_addresses = (\n",
    "    scan_df\n",
    "    .filter(pl.col(\"response_type\") != \"Transparent Forwarder\")\n",
    "    .select(\"ip_response\")\n",
    "    .unique()\n",
    ")\n",
    "# we might know some resolver addresses through the a-record as well, but they are part of the shielded resolvers since these resolvers are not publically accessible\n",
    "\n",
    "# mapping of transparent forwarders to shielded resolvers\n",
    "tfwd_shielded_df = (\n",
    "    scan_df\n",
    "    .filter(pl.col(\"response_type\") == \"Transparent Forwarder\")\n",
    "    .filter(~pl.col(\"ip_response\").is_in(response_addresses))\n",
    ")\n",
    "# ip addresses of only the shielded resolvers themselves\n",
    "shielded_resolvers = tfwd_shielded_df.select(\"ip_response\").unique()\n",
    "top5ases = tfwd_shielded_df.group_by(\"asn_request\").agg(pl.len()).sort(by=\"len\",descending=True).head(5).select(pl.col('asn_request'))\n",
    "print(\"#######################\")\n",
    "print(\"######  TABLE 4  ######\")\n",
    "print(\"#######################\")\n",
    "print(tfwd_shielded_df.group_by(\"asn_request\").agg(pl.len()).sort(by=\"len\",descending=True)\\\n",
    "      .join(tfwd_shielded_df.filter(pl.col('asn_response').is_in(top5ases)).group_by(\"asn_response\",\"ip_response\").agg(pl.len()).group_by(\"asn_response\").agg(pl.len()).sort(by=\"len\",descending=True),left_on='asn_request',right_on='asn_response')\\\n",
    "      .to_pandas().rename(columns={'asn_request':'ASN','len':'\\# of Transp. Fwds.','len_right':'\\# of Shielded Resolvers'}).to_latex(index=False,float_format=\"%.0f\"))"
   ]
  },
  {
   "cell_type": "code",
   "execution_count": 12,
   "id": "d1c49721-796f-4880-9e1e-de4fc2bd5a79",
   "metadata": {},
   "outputs": [],
   "source": [
    "fnames = glob.glob(f\"{data_dir}/any_dnssec_support/udp_A_DNSSEC_verisign.com_*.csv.gz\")\n",
    "\n",
    "dnssec_df = pl.concat(\n",
    "    [pl.read_csv(file, separator=\";\", has_header=False, new_columns=[\"id\",\"ip_request\",\"ip_response\",\"a_record\",\"ts_request\",\"port\",\"dnsid\",\"dns_pkt_size\",\"dns_recs\",\"dns_flags\"]).with_columns(\n",
    "        pl.lit(file.split(\"_\")[-1].split(\".\")[0]).alias(\"resolver_type\")\n",
    "    ) for idx, file in enumerate(fnames)]\n",
    ")\n",
    " \n",
    "dnssec_df = dnssec_df.with_columns(\n",
    "    pl.when(pl.col(\"dns_recs\").str.contains(\"RRSIG\"))\n",
    "    .then(pl.lit(True))\n",
    "    .otherwise(pl.lit(False))\n",
    "    .alias(\"has_dnssec\")\n",
    ")\n",
    "\n",
    "dnssec_df = dnssec_df.group_by(\"ip_response\",\"has_dnssec\",\"resolver_type\").agg(pl.len())\n",
    "dnssec_df_filtered_has = dnssec_df.filter(pl.col(\"has_dnssec\"))\n",
    "dnssec_df_filtered_has_not = dnssec_df.filter(~pl.col(\"ip_response\").is_in(dnssec_df_filtered_has[\"ip_response\"]))\n",
    "dnssec_df = pl.concat([dnssec_df_filtered_has,dnssec_df_filtered_has_not])\n",
    "dnssec_df = dnssec_df.group_by(\"has_dnssec\",\"resolver_type\").agg(\n",
    "    pl.len().alias(\"dnssec_amount\")\n",
    ")\n"
   ]
  },
  {
   "cell_type": "code",
   "execution_count": 13,
   "id": "d797ac04-00a1-4ba9-91df-9a944ed27cb9",
   "metadata": {},
   "outputs": [],
   "source": [
    "fnames = glob.glob(f\"{data_dir}/any_dnssec_support/udp_ANY_EDNS0_verisign.com_*.csv.gz\")\n",
    "\n",
    "any_df = pl.concat(\n",
    "    [pl.read_csv(file, separator=\";\", has_header=False, new_columns=[\"id\",\"ip_request\",\"ip_response\",\"a_record\",\"ts_request\",\"port\",\"dnsid\",\"dns_pkt_size\",\"dns_recs\",\"dns_flags\"]).with_columns(\n",
    "        pl.lit(file.split(\"_\")[-1].split(\".\")[0]).alias(\"resolver_type\")\n",
    "    ) for idx, file in enumerate(fnames)]\n",
    ")\n",
    "any_df = any_df.with_columns(\n",
    "    pl.when(pl.col(\"dns_pkt_size\") > 100)\n",
    "    .then(pl.lit(True))\n",
    "    .otherwise(pl.lit(False))\n",
    "    .alias(\"has_any\")\n",
    ")\n",
    "\n",
    "any_df = any_df.group_by(\"ip_response\",\"has_any\",\"resolver_type\").agg(pl.len())\n",
    "\n",
    "any_df_filtered_has = any_df.filter(pl.col(\"has_any\"))\n",
    "any_df_filtered_has_not = any_df.filter(~pl.col(\"ip_response\").is_in(dnssec_df_filtered_has[\"ip_response\"]))\n",
    "any_df = pl.concat([any_df_filtered_has,any_df_filtered_has_not])\n",
    "any_df = any_df.group_by(\"has_any\",\"resolver_type\").agg(\n",
    "    pl.len().alias(\"any_amount\")\n",
    ")"
   ]
  },
  {
   "cell_type": "code",
   "execution_count": 14,
   "id": "3393e4c3-c279-4d77-bbd7-33c6717b5d9f",
   "metadata": {},
   "outputs": [],
   "source": [
    "# all known response addresses are already directly accessible\n",
    "response_addresses2 = (\n",
    "    scan_df_aug\n",
    "    .filter(pl.col(\"response_type\") != \"Transparent Forwarder\")\n",
    "    .select(\"ip_response\")\n",
    "    .unique()\n",
    ")\n",
    "# we might know some resolver addresses through the a-record as well, but they are part of the shielded resolvers since these resolvers are not publically accessible\n",
    "\n",
    "# mapping of transparent forwarders to shielded resolvers\n",
    "tfwd_shielded_df2 = (\n",
    "    scan_df_aug\n",
    "    .filter(pl.col(\"response_type\") == \"Transparent Forwarder\")\n",
    "    .filter(~pl.col(\"ip_response\").is_in(response_addresses2))\n",
    ")\n",
    "# ip addresses of only the shielded resolvers themselves\n",
    "shielded_resolvers2 = tfwd_shielded_df2.select(\"ip_response\").unique()"
   ]
  },
  {
   "cell_type": "code",
   "execution_count": 15,
   "id": "5ebe5a05-62a7-4864-8150-174570cc42b5",
   "metadata": {},
   "outputs": [],
   "source": [
    "total_shielded = shielded_resolvers2.n_unique()\n",
    "shielded_any = any_df.filter((pl.col('has_any')) & (pl.col('resolver_type')=='shielded')).select(pl.col('any_amount')).item()\n",
    "shielded_noany = any_df.filter((~pl.col('has_any')) & (pl.col('resolver_type')=='shielded')).select(pl.col('any_amount')).item()\n",
    "\n",
    "shielded_dnssec = dnssec_df.filter((pl.col('has_dnssec')) & (pl.col('resolver_type')=='shielded')).select(pl.col('dnssec_amount')).item()\n",
    "shielded_nodnssec = dnssec_df.filter((~pl.col('has_dnssec')) & (pl.col('resolver_type')=='shielded')).select(pl.col('dnssec_amount')).item()\n",
    "\n",
    "total_unshielded = scan_df_aug.filter(pl.col('response_type')=='Resolver').n_unique()\n",
    "unshielded_any = any_df.filter((pl.col('has_any')) & (pl.col('resolver_type')=='unshielded')).select(pl.col('any_amount')).item()\n",
    "unshielded_noany = any_df.filter((~pl.col('has_any')) & (pl.col('resolver_type')=='unshielded')).select(pl.col('any_amount')).item()\n",
    "\n",
    "unshielded_dnssec = dnssec_df.filter((pl.col('has_dnssec')) & (pl.col('resolver_type')=='unshielded')).select(pl.col('dnssec_amount')).item()\n",
    "unshielded_nodnssec = dnssec_df.filter((~pl.col('has_dnssec')) & (pl.col('resolver_type')=='unshielded')).select(pl.col('dnssec_amount')).item()\n",
    "\n",
    "table_tmp = pd.DataFrame({'Query':['DNSSEC']*3+['ANY']*3,\n",
    "                          'Support':[True,False,'n/a']*2,\n",
    "                          'Shielded Res. [#]':[shielded_dnssec,\n",
    "                                               shielded_nodnssec,\n",
    "                                               total_shielded-shielded_dnssec-shielded_nodnssec,\n",
    "                                               shielded_any,\n",
    "                                               shielded_noany,\n",
    "                                               total_shielded-shielded_any-shielded_noany\n",
    "                                              ],\n",
    "                          'Shielded Res. [%]':[round(shielded_dnssec/total_shielded*100,1),\n",
    "                                               round(shielded_nodnssec/total_shielded*100,1),\n",
    "                                               round((total_shielded-shielded_dnssec-shielded_nodnssec)/total_shielded*100,1),\n",
    "                                               round(shielded_any/total_shielded*100,1),\n",
    "                                               round(shielded_noany/total_shielded*100,1),\n",
    "                                               round((total_shielded-shielded_any-shielded_noany)/total_shielded*100,1)\n",
    "                                              ],\n",
    "                          'Open Res. [#]':[unshielded_dnssec,\n",
    "                                               unshielded_nodnssec,\n",
    "                                               total_unshielded-unshielded_dnssec-unshielded_nodnssec,\n",
    "                                               unshielded_any,\n",
    "                                               unshielded_noany,\n",
    "                                               total_unshielded-unshielded_any-unshielded_noany\n",
    "                                              ],\n",
    "                          'Open Res. [%]':[round(unshielded_dnssec/total_unshielded*100,1),\n",
    "                                               round(unshielded_nodnssec/total_unshielded*100,1),\n",
    "                                               round((total_unshielded-unshielded_dnssec-unshielded_nodnssec)/total_unshielded*100,1),\n",
    "                                               round(unshielded_any/total_unshielded*100,1),\n",
    "                                               round(unshielded_noany/total_unshielded*100,1),\n",
    "                                               round((total_unshielded-unshielded_any-unshielded_noany)/total_unshielded*100,1)\n",
    "                                              ]\n",
    "                         })"
   ]
  },
  {
   "cell_type": "code",
   "execution_count": 16,
   "id": "77262e80-fe11-4d92-abd0-3530f60ad0d0",
   "metadata": {},
   "outputs": [
    {
     "name": "stdout",
     "output_type": "stream",
     "text": [
      "#######################\n",
      "######  TABLE 5  ######\n",
      "#######################\n",
      "\\begin{tabular}{llrrrr}\n",
      "\\toprule\n",
      "Query & Support & Shielded Res. [#] & Shielded Res. [%] & Open Res. [#] & Open Res. [%] \\\\\n",
      "\\midrule\n",
      "DNSSEC & True & 5989 & 23.600000 & 22092 & 65.000000 \\\\\n",
      "DNSSEC & False & 15197 & 59.900000 & 4630 & 13.600000 \\\\\n",
      "DNSSEC & n/a & 4168 & 16.400000 & 7246 & 21.300000 \\\\\n",
      "ANY & True & 3791 & 15.000000 & 24146 & 71.100000 \\\\\n",
      "ANY & False & 505 & 2.000000 & 884 & 2.600000 \\\\\n",
      "ANY & n/a & 21058 & 83.100000 & 8938 & 26.300000 \\\\\n",
      "\\bottomrule\n",
      "\\end{tabular}\n",
      "\n"
     ]
    }
   ],
   "source": [
    "print(\"#######################\")\n",
    "print(\"######  TABLE 5  ######\")\n",
    "print(\"#######################\")\n",
    "print(table_tmp.to_latex(index=False))"
   ]
  },
  {
   "cell_type": "code",
   "execution_count": 17,
   "id": "e1026b09-87ea-4ae1-9ee5-0e7cdb7c2190",
   "metadata": {
    "jupyter": {
     "source_hidden": true
    }
   },
   "outputs": [],
   "source": [
    "anycast_ip_addresses = [\n",
    "    \"8.8.8.8\",\n",
    "    \"8.8.4.4\",\n",
    "    \"1.1.1.1\",\n",
    "    \"1.0.0.1\",\n",
    "    \"208.67.222.222\",\n",
    "    \"9.9.9.9\",\n",
    "    \"45.90.28.118\",\n",
    "    \"76.76.2.0\",\n",
    "    \"156.154.70.1\",\n",
    "    \"199.85.126.10\",\n",
    "    \"64.6.64.6\",\n",
    "    \"4.2.2.1\",\n",
    "    \"74.82.42.42\",\n",
    "    \"185.228.168.9\",\n",
    "    \"195.46.39.39\",\n",
    "    \"8.26.56.26\",\n",
    "    \"94.140.14.14\",\n",
    "    \"45.11.45.11\",\n",
    "    \"216.146.35.35\",\n",
    "    \"223.5.5.5\",\n",
    "    \"119.29.29.29\",\n",
    "    \"101.226.4.6\",\n",
    "    \"180.76.76.76\",\n",
    "    \"114.114.114.114\",\n",
    "    \"1.2.4.8\",\n",
    "    \"205.171.2.26\",\n",
    "    \"149.112.121.10\",\n",
    "    \"80.80.80.80\",\n",
    "    \"77.88.8.8\",\n",
    "    \"193.58.251.251\"\n",
    "]\n",
    "anycast_ip_addresses = ['1.1.1.1', '8.8.8.8', '208.67.222.222', '77.88.8.8',\n",
    "       '114.114.114.114', '223.5.5.5', '4.2.2.1', '195.46.39.39',\n",
    "       '119.29.29.29', '1.2.4.8', '193.58.251.251']"
   ]
  },
  {
   "cell_type": "code",
   "execution_count": 18,
   "id": "a5e1a6ca-caf0-4d65-a415-966c3a7754b7",
   "metadata": {},
   "outputs": [],
   "source": [
    "anycast_df = scan_df.filter((pl.col('ip_response')!=pl.col('a_record')) & (pl.col('ip_response').is_in(anycast_ip_addresses)) & (pl.col('response_type')=='Transparent Forwarder')).to_pandas()#.org_response.unique()"
   ]
  },
  {
   "cell_type": "code",
   "execution_count": 19,
   "id": "7000c57a-e0d2-4770-bc7e-b719b9aa22df",
   "metadata": {},
   "outputs": [],
   "source": [
    "anycast_df['ip_request24'] = anycast_df.ip_request.apply(lambda ip: '.'.join(ip.split('.')[:-1]))\n",
    "anycast_df['arecord24'] = anycast_df.a_record.apply(lambda ip: '.'.join(ip.split('.')[:-1]))"
   ]
  },
  {
   "cell_type": "code",
   "execution_count": 20,
   "id": "88fe6a50-de88-427f-97a7-02ca85126a06",
   "metadata": {},
   "outputs": [],
   "source": [
    "anycast_df = pl.from_pandas(anycast_df)"
   ]
  },
  {
   "cell_type": "code",
   "execution_count": 21,
   "id": "84728cb0-14b5-4c82-9824-5ea871a26473",
   "metadata": {},
   "outputs": [
    {
     "name": "stdout",
     "output_type": "stream",
     "text": [
      "#######################\n",
      "######  TABLE 6  ######\n",
      "#######################\n",
      "\\begin{tabular}{lrrrrr}\n",
      "\\toprule\n",
      "ip_response & Countries [#] & Tfwd [#] & Tfwd /24 [#] & Anycast Infrastructure [#] & Anycast Infrastructure /24 [#] \\\\\n",
      "\\midrule\n",
      "8.8.8.8 & 74 & 341447 & 5174 & 1889 & 139 \\\\\n",
      "1.1.1.1 & 46 & 48313 & 953 & 216 & 151 \\\\\n",
      "208.67.222.222 & 26 & 14464 & 227 & 224 & 42 \\\\\n",
      "195.46.39.39 & 2 & 19 & 4 & 2 & 2 \\\\\n",
      "4.2.2.1 & 2 & 9 & 2 & 9 & 3 \\\\\n",
      "77.88.8.8 & 1 & 725 & 17 & 119 & 5 \\\\\n",
      "114.114.114.114 & 1 & 70 & 26 & 5 & 3 \\\\\n",
      "223.5.5.5 & 1 & 62 & 22 & 16 & 16 \\\\\n",
      "119.29.29.29 & 1 & 3 & 3 & 3 & 3 \\\\\n",
      "193.58.251.251 & 1 & 3 & 1 & 1 & 1 \\\\\n",
      "1.2.4.8 & 1 & 2 & 1 & 2 & 1 \\\\\n",
      "\\bottomrule\n",
      "\\end{tabular}\n",
      "\n"
     ]
    }
   ],
   "source": [
    "print(\"#######################\")\n",
    "print(\"######  TABLE 6  ######\")\n",
    "print(\"#######################\")\n",
    "print(anycast_df.group_by('ip_response').agg(\n",
    "    pl.col('country_request').n_unique().alias('Countries [#]'),\n",
    "    pl.col('ip_request').n_unique().alias('Tfwd [#]'),\n",
    "    pl.col('ip_request24').n_unique().alias('Tfwd /24 [#]'),\n",
    "    pl.col('a_record').n_unique().alias('Anycast Infrastructure [#]'),\n",
    "    pl.col('arecord24').n_unique().alias('Anycast Infrastructure /24 [#]'),\n",
    ").sort(['Countries [#]','Tfwd [#]'],descending=True).to_pandas().to_latex(index=False))"
   ]
  },
  {
   "cell_type": "code",
   "execution_count": 22,
   "id": "5759bf62-f8c5-4c2b-9c90-8d83ffe81170",
   "metadata": {},
   "outputs": [
    {
     "data": {
      "text/plain": [
       "'./data/ratelimits-multiple-pops'"
      ]
     },
     "execution_count": 22,
     "metadata": {},
     "output_type": "execute_result"
    }
   ],
   "source": [
    "rate_pub_resolver_multi_pop_files"
   ]
  },
  {
   "cell_type": "code",
   "execution_count": 23,
   "id": "0cb443c1-f852-46fd-9412-4c5bc406e70a",
   "metadata": {
    "scrolled": true
   },
   "outputs": [],
   "source": [
    "root_path = rate_pub_resolver_multi_pop_files\n",
    "rl_resolver_multipop = pd.DataFrame([])\n",
    "for cc_folder in os.listdir(root_path):\n",
    "    scan_folders = sorted(os.listdir(os.path.join(root_path, cc_folder)))\n",
    "    for idx, scan_folder in enumerate(scan_folders):\n",
    "        scan_path = os.path.join(root_path, cc_folder, scan_folder)\n",
    "        if not os.path.isdir(scan_path) or 'ipynb_checkpoints' in scan_path:\n",
    "            continue\n",
    "        tmp = pd.read_csv(os.path.join(scan_path,'rates.csv'), sep=';', names=['resolver_ip','max_rate', 'end_rate'])\n",
    "        ts = scan_folder.split('_')[0]\n",
    "        tmp['date'] = pd.to_datetime(ts)\n",
    "        tmp['country'] = cc_folder\n",
    "        rl_resolver_multipop = pd.concat([rl_resolver_multipop,tmp],ignore_index=True)"
   ]
  },
  {
   "cell_type": "code",
   "execution_count": 24,
   "id": "06985b51-f869-4617-b2d1-282f770c6179",
   "metadata": {},
   "outputs": [
    {
     "name": "stdout",
     "output_type": "stream",
     "text": [
      "#######################\n",
      "######  TABLE 7  ######\n",
      "#######################\n",
      "\\begin{tabular}{llrrr}\n",
      "\\toprule\n",
      " &  & \\multicolumn{3}{r}{Max. rate on avg.} \\\\\n",
      " &  & BRA & GER & IND \\\\\n",
      "Resolver name & IPv4-address &  &  &  \\\\\n",
      "\\midrule\n",
      "\\multirow[t]{2}{*}{Google} & 8.8.4.4 & 2177 & 1773 & 1597 \\\\\n",
      " & 8.8.8.8 & 2170 & 1744 & 1608 \\\\\n",
      "\\cline{1-5}\n",
      "\\multirow[t]{2}{*}{Cloudflare} & 1.0.0.1 & 1008 & 874 & 754 \\\\\n",
      " & 1.1.1.1 & 863 & 822 & 796 \\\\\n",
      "\\cline{1-5}\n",
      "\\multirow[t]{2}{*}{OpenDNS} & 208.67.220.220 & 832 & 829 & 769 \\\\\n",
      " & 208.67.222.222 & 785 & 733 & 773 \\\\\n",
      "\\cline{1-5}\n",
      "\\multirow[t]{2}{*}{Verisign} & 64.6.64.6 & 192 & 199 & 192 \\\\\n",
      " & 64.6.65.6 & 2254 & 1796 & 1401 \\\\\n",
      "\\cline{1-5}\n",
      "\\multirow[t]{2}{*}{AliDNS} & 223.5.5.5 & 1894 & 1753 & 1341 \\\\\n",
      " & 223.6.6.6 & 1882 & 1729 & 1506 \\\\\n",
      "\\cline{1-5}\n",
      "\\multirow[t]{2}{*}{CNNIC SDNS} & 1.2.4.8 & 1932 & 426 & 740 \\\\\n",
      " & 210.2.4.8 & 1194 & 1358 & 223 \\\\\n",
      "\\cline{1-5}\n",
      "\\multirow[t]{2}{*}{114DNS} & 114.114.114.114 & 58 & 55 & 54 \\\\\n",
      " & 114.114.115.115 & 58 & 54 & 51 \\\\\n",
      "\\cline{1-5}\n",
      "\\multirow[t]{2}{*}{DNSPod Public DNS+} & 119.28.28.28 & 1877 & 1831 & 1538 \\\\\n",
      " & 119.29.29.29 & 1966 & 1870 & 1502 \\\\\n",
      "\\cline{1-5}\n",
      "\\multirow[t]{2}{*}{Yandex.DNS} & 77.88.8.1 & 25 & 28 & 26 \\\\\n",
      " & 77.88.8.8 & 21 & 28 & 24 \\\\\n",
      "\\cline{1-5}\n",
      "\\bottomrule\n",
      "\\end{tabular}\n",
      "\n"
     ]
    }
   ],
   "source": [
    "formatted_df = rl_resolver_multipop.groupby(['resolver_ip','country'])['max_rate'].mean().unstack(level=-1).merge(pd.read_csv(f'{data_dir}/pub_dns_servers/public_dns_servers.txt',sep=';'), left_on='resolver_ip', right_on='resolver_addr').set_index(['resolver_name', 'resolver_addr']).sort_index()\n",
    "\n",
    "max_rate_per_resolver = formatted_df.max(axis=1).groupby(level='resolver_name').max()\n",
    "sorted_resolver_order = max_rate_per_resolver.sort_values(ascending=False).index\n",
    "formatted_df = formatted_df.reindex(sorted_resolver_order, level='resolver_name')\n",
    "\n",
    "formatted_df = formatted_df[(formatted_df != 0).any(axis=1)]\n",
    "formatted_df.index.names = ['Resolver name', 'IPv4-address']\n",
    "formatted_df.columns = pd.MultiIndex.from_product([['Max. rate on avg.'], formatted_df.columns])\n",
    "formatted_df = formatted_df.astype(int)\n",
    "formatted_df = formatted_df[formatted_df.index.get_level_values(0).isin(['Google','Cloudflare','OpenDNS','Verisign','AliDNS','CNNIC SDNS','114DNS','DNSPod Public DNS+','Yandex.DNS'])]\n",
    "order_mapping = {'Google':1,'Cloudflare':2,'OpenDNS':3,'Verisign':4,'AliDNS':5,'CNNIC SDNS':6,'114DNS':7,'DNSPod Public DNS+':8,'Yandex.DNS':9}\n",
    "formatted_df = formatted_df.sort_index(level=0,key=lambda name: name.map(order_mapping))\n",
    "tex_table = formatted_df.to_latex(multirow=True, index=True)\n",
    "print(\"#######################\")\n",
    "print(\"######  TABLE 7  ######\")\n",
    "print(\"#######################\")\n",
    "print(tex_table)"
   ]
  },
  {
   "cell_type": "code",
   "execution_count": 25,
   "id": "cdc2b56e-1b9c-45e6-8136-70ff6f8445a6",
   "metadata": {},
   "outputs": [],
   "source": [
    "orchestration_df = pl.read_csv(f'{data_dir}/tfwds_to_public_dns_servers/2024-10-22_11-27-12_rm-direct_dm-constant_incr-2000ms_max-rate-3000pps/rates.csv',separator=';',has_header=False,new_columns=['Anycast IP address','Packet rate [pps]','Single count'])\\\n",
    ".select(['Anycast IP address','Packet rate [pps]']).sort(by='Packet rate [pps]',descending=True).filter(pl.col('Anycast IP address')!='9.9.9.9')"
   ]
  },
  {
   "cell_type": "code",
   "execution_count": 26,
   "id": "8245c0af-b5bc-4f2f-a950-00e522877883",
   "metadata": {},
   "outputs": [],
   "source": [
    "anycast_company = {\"8.8.8.8\":'Google',\"8.8.4.4\":'Google',\"1.1.1.1\":\"Cloudflare\",\"1.0.0.1\":\"Cloudflare\",\"208.67.222.222\":\"OpenDNS\",\"208.67.220.220\":\"OpenDNS\"}"
   ]
  },
  {
   "cell_type": "code",
   "execution_count": 27,
   "id": "fa98ea37-df4a-4afa-ac22-dda90701be09",
   "metadata": {},
   "outputs": [],
   "source": [
    "custom_order={'Google':1,'Cloudflare':2,'OpenDNS':3}"
   ]
  },
  {
   "cell_type": "code",
   "execution_count": 28,
   "id": "e41802f0-591b-4292-8104-51af8253de37",
   "metadata": {},
   "outputs": [],
   "source": [
    "orchestration_df = orchestration_df.with_columns(\n",
    "    pl.col('Anycast IP address').replace(anycast_company).alias('Company')\n",
    ")[['Company','Anycast IP address','Packet rate [pps]']]"
   ]
  },
  {
   "cell_type": "code",
   "execution_count": 29,
   "id": "3e35003e-3144-48bd-8545-d8426585e7b3",
   "metadata": {},
   "outputs": [],
   "source": [
    "orchestration_df = orchestration_df.insert_column(3,pl.Series(\"Transp. fwd. [#]\", [10,7,8,5,7,5]))"
   ]
  },
  {
   "cell_type": "code",
   "execution_count": 30,
   "id": "cb83aeef-f5a5-4d3b-8dde-37c2f6516b11",
   "metadata": {},
   "outputs": [],
   "source": [
    "orchestration_df = pl.from_pandas(orchestration_df.to_pandas().sort_values(by='Company',key=lambda x:x.map(custom_order))).insert_column(4,pl.Series('Resolver Packet rate [pps]',[1744, 1773, 822, 874, 733, 829])).to_pandas()"
   ]
  },
  {
   "cell_type": "code",
   "execution_count": 32,
   "id": "5de7a129-d97e-4a4e-96c4-9fd1d33c29ea",
   "metadata": {},
   "outputs": [
    {
     "name": "stdout",
     "output_type": "stream",
     "text": [
      "#######################\n",
      "######  TABLE 8  ######\n",
      "#######################\n",
      "\\begin{tabular}{llrrr}\n",
      "\\toprule\n",
      "Company & Anycast IP address & Packet rate [pps] & Transp. fwd. [#] & Resolver Packet rate [pps] \\\\\n",
      "\\midrule\n",
      "Google & 8.8.8.8 & 24815 & 10 & 1744 \\\\\n",
      "Google & 8.8.4.4 & 17153 & 7 & 1773 \\\\\n",
      "Cloudflare & 1.1.1.1 & 6002 & 8 & 822 \\\\\n",
      "Cloudflare & 1.0.0.1 & 3600 & 5 & 874 \\\\\n",
      "OpenDNS & 208.67.222.222 & 5660 & 5 & 733 \\\\\n",
      "OpenDNS & 208.67.220.220 & 3950 & 7 & 829 \\\\\n",
      "\\bottomrule\n",
      "\\end{tabular}\n",
      "\n"
     ]
    }
   ],
   "source": [
    "print(\"#######################\")\n",
    "print(\"######  TABLE 8  ######\")\n",
    "print(\"#######################\")\n",
    "print(orchestration_df.to_latex(index=False))"
   ]
  },
  {
   "cell_type": "code",
   "execution_count": null,
   "id": "04cf25c8-8da2-41a6-a8d4-d00c2f64cf4b",
   "metadata": {},
   "outputs": [],
   "source": []
  }
 ],
 "metadata": {
  "kernelspec": {
   "display_name": "Python 3 (ipykernel)",
   "language": "python",
   "name": "python3"
  },
  "language_info": {
   "codemirror_mode": {
    "name": "ipython",
    "version": 3
   },
   "file_extension": ".py",
   "mimetype": "text/x-python",
   "name": "python",
   "nbconvert_exporter": "python",
   "pygments_lexer": "ipython3",
   "version": "3.12.3"
  }
 },
 "nbformat": 4,
 "nbformat_minor": 5
}
